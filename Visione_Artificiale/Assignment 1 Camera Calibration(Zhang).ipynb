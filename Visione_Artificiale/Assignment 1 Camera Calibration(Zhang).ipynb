{
 "cells": [
  {
   "cell_type": "markdown",
   "id": "c47e79c9",
   "metadata": {},
   "source": [
    "Assignment 1: Camera Calibration\n",
    "ANTONIO PIO SCIACCHITANO\n",
    "\n"
   ]
  },
  {
   "cell_type": "code",
   "execution_count": 18,
   "id": "ce2e0df4",
   "metadata": {
    "collapsed": false,
    "jupyter": {
     "outputs_hidden": false
    }
   },
   "outputs": [],
   "source": [
    "import cv2\n",
    "import numpy as np\n",
    "import os\n",
    "\n",
    "path_image = \"imgProva2/\"\n",
    "lista_img = os.listdir(path_image)\n",
    "chessboard_size = (6, 9) #dim scacchiera\n",
    "def find_correspondences(path_image, lista_img, chessboard_size):\n",
    "    # Coordinate dei punti del quadrato nel mondo reale\n",
    "    #array NumPy con 3 dimensioni 6 x 9 x 3 e un tipo di dato float a 32-bit\n",
    "    # L'array è inizializzato con tutti i valori 0\n",
    "    obj_points = np.zeros((6 * 9, 3), np.float32)\n",
    "    obj_points[:, :2] = np.mgrid[0:9, 0:6].T.reshape(-1, 2)\n",
    "    imgpoints = []\n",
    "    objpoints_list = []  # lista di punti 3D\n",
    "    # Definisco la lista di punti di interesse per ogni immagine\n",
    "    corners_list = []  # lista di punti 2D\n",
    "\n",
    "    # Leggi tutte le immagini nella cartella\n",
    "    for im_name in lista_img:\n",
    "        im = cv2.imread(path_image + im_name)\n",
    "        #la funzione findChessboardCorners rileva gli angoli di una scacchiera in una immagine.\n",
    "        retval, corners = cv2.findChessboardCorners(im, chessboard_size)\n",
    "        if retval:\n",
    "            obj_points = np.squeeze(obj_points)\n",
    "            objpoints_list.append(obj_points)\n",
    "            #raffinare le coordinate dei pixel per dati punti 2D.\n",
    "            corners = np.squeeze(corners)\n",
    "            imgpoints.append(corners)#stessi elementi con corners_list\n",
    "            corners_list.append(corners)#stessi elementi con imgpoints\n",
    "\n",
    "            #la funzione drawChessboardCorners disegna e visualizza gli angoli\n",
    "            img = cv2.drawChessboardCorners(im, chessboard_size, corners, retval)\n",
    "            cv2.imshow(\"im\", im)\n",
    "            cv2.waitKey(0)\n",
    "    return obj_points, imgpoints, objpoints_list, corners_list, corners, img"
   ]
  },
  {
   "cell_type": "code",
   "execution_count": 19,
   "id": "8930541c-4882-4efa-831f-16a4d0adde2c",
   "metadata": {},
   "outputs": [
    {
     "name": "stdout",
     "output_type": "stream",
     "text": [
      "matrice K con calibrateCamera\n",
      " [[1.41459205e+04 0.00000000e+00 3.68579693e+02]\n",
      " [0.00000000e+00 9.29432640e+03 6.75578042e+02]\n",
      " [0.00000000e+00 0.00000000e+00 1.00000000e+00]]\n"
     ]
    }
   ],
   "source": [
    "obj_points, imgpoints, objpoints_list, corners_list, corners, img = find_correspondences(path_image, lista_img, chessboard_size)\n",
    "\n",
    "#viene calcolata la matrice di calibrazione K_calibrate, la distorsione dist, e i vettori di rotazione e traslazione per ogni immagine\n",
    "ret, K_calibrate, dist, rvecs, tvecs = cv2.calibrateCamera(objpoints_list, imgpoints, img.shape[0:2], None, None)\n",
    "print(\"matrice K con calibrateCamera\\n\", K_calibrate)"
   ]
  },
  {
   "cell_type": "markdown",
   "id": "68f7bf65",
   "metadata": {},
   "source": [
    "In questa funzione denominata sistema_A_P che prende in input due array numpy: obj_points  che contiene i punti 3D\n",
    "(x, y, z) corners che contiene i corrispondenti punti 2D (x, y) nella stessa prospettiva.\n",
    "\n",
    "![punti2D3D](punti2D3D.jpg)\n"
   ]
  },
  {
   "cell_type": "code",
   "execution_count": 20,
   "id": "db85135c-6fb1-487c-9974-517e1c0443c6",
   "metadata": {},
   "outputs": [],
   "source": [
    "def sistema_A_P(obj_points, corners):\n",
    "\n",
    "    A_rows = 2 * len(corners)\n",
    "    #matrice con A_rows(54) righe e 9 colonne, e tutti i suoi elementi sono zero.\n",
    "    matrice_A = np.zeros((A_rows, 9))\n",
    "    lista_vettori = []\n",
    "\n",
    "    #esegue un ciclo for sulla lunghezza degli array corners.\n",
    "    #All'interno del ciclo, vengono estratti i valori dei punti 3D e 2D dalle rispettive matrici.\n",
    "    for i in range(len(corners)):\n",
    "        spazio_X, spazio_Y, _ = obj_points[i] #punti 3D\n",
    "        pixel_x, pixel_y = corners[i] #punti 2D\n",
    "        # Vengono creati due vettori che rappresentano\n",
    "        # la riga i-esima e la riga (i+1)-esima di matrice_A,\n",
    "        # aggiungendo i valori appropriati a lista_vettori\n",
    "        lista_vettori.append([spazio_X, spazio_Y, 1, 0, 0, 0, -pixel_x * spazio_X, -pixel_x * spazio_Y, -pixel_x])\n",
    "        lista_vettori.append([0, 0, 0, spazio_X, spazio_Y, 1, -pixel_y * spazio_X, -pixel_y * spazio_Y, -pixel_y])\n",
    "\n",
    "\n",
    "    matrice_A = np.array(lista_vettori)\n",
    "    #viene eseguita una decomposizione SVD (Singular Value Decomposition) sulla matrice matrice_A.\n",
    "    #Viene estratto il vettore di destra della matrice VT restituita dalla decomposizione SVD,\n",
    "    U, S, VT_matrix = np.linalg.svd(matrice_A)\n",
    "    # che corrisponde al più piccolo valore singolare.\n",
    "    vt = VT_matrix[np.argmin(S)]\n",
    "\n",
    "    return vt, S, U"
   ]
  },
  {
   "cell_type": "markdown",
   "id": "fd937037",
   "metadata": {},
   "source": [
    "![matriceH](matriceH.jpg)\n",
    "\n",
    "Dopo aver stimato la matrice di proiezione P(H), è possibile calcolare i parametri intrinseci (K) ed estrinseci.\n",
    "\n",
    "![projMat](projMat.png)\n",
    "\n",
    "Faremo riferimento solo ad una porzione di questa equazione:\n",
    "\n",
    "![subMat](subMat.png)\n",
    "\n",
    "![K](K.jpg)\n"
   ]
  },
  {
   "cell_type": "markdown",
   "id": "643ae5de",
   "metadata": {},
   "source": [
    "Calcoliamo i valori della matrice"
   ]
  },
  {
   "cell_type": "code",
   "execution_count": 21,
   "id": "477c2437-3ae4-411e-b760-0ca7830c3beb",
   "metadata": {},
   "outputs": [
    {
     "name": "stdout",
     "output_type": "stream",
     "text": [
      "la matrice K:\n",
      " [[6.03469367e+07 6.34419887e+02 3.33037989e-26]\n",
      " [0.00000000e+00 1.05128895e-05 1.60276225e-01]\n",
      " [0.00000000e+00 0.00000000e+00 1.00000000e+00]]\n"
     ]
    }
   ],
   "source": [
    "vt, S, U = sistema_A_P(obj_points, corners)\n",
    "#Il vettore viene poi rimodellato in una matrice 3x3 per ottenere la matrice di trasformazione H\n",
    "H = vt.reshape((3, 3))\n",
    "#La matrice H viene normalizzata dividendo ogni elemento per la norma della matrice\n",
    "#Viene calcolato il valore dei parametri della matrice K a partire dai valori normalizzati della matrice H\n",
    "H_norm = H / np.linalg.norm(H)\n",
    "# calcolo i parametri della matrice K\n",
    "#vc, che è il prodotto di quattro elementi della matrice H_norm, corrispondenti alle posizioni (1,0), (2,0), (1,1) e (2,1)\n",
    "vc = H_norm[1,0]*H_norm[2,0]*H_norm[1,1]*H_norm[2,1]\n",
    "# uc, che è il prodotto di quattro elementi diversi della matrice H_norm\n",
    "# corrispondenti alle posizioni (0,0), (2,0), (0,1) e (2,1)\n",
    "uc = H_norm[0,0]*H_norm[2,0]*H_norm[0,1]*H_norm[2,1]\n",
    "#calcolo alpha, che è la radice quadrata del valore assoluto del prodotto di quattro elementi diversi della matrice H_norm,\n",
    "#corrispondenti alle posizioni (0,0), (1,0), (0,1) e (1,1), diviso per il prodotto di vc e uc\n",
    "alpha = np.sqrt(np.abs(H_norm[0,0]*H_norm[1,0]*H_norm[0,1]*H_norm[1,1]/(vc*uc)))\n",
    "#calcolo beta, che è la radice quadrata del valore assoluto del prodotto di due elementi della matrice H_norm\n",
    "# corrispondenti alle posizioni (1,1) e (2,1), diviso per il prodotto di vc e alpha alla seconda\n",
    "beta = np.sqrt(np.abs(H_norm[1,1]*H_norm[2,1]/(vc*alpha**2)))\n",
    "#calcola gamma, che è il prodotto tra il segno di due elementi diversi della matrice H_norm\n",
    "#corrispondenti alle posizioni (1,0) e (0,1), e la radice quadrata del valore assoluto della differenza tra alpha alla seconda, beta alla seconda e -1\n",
    "gamma = np.sign(H_norm[1,0]*H_norm[0,1])*np.sqrt(np.abs(alpha**2*beta**2-1))\n",
    "#uc dividendo per alpha alla seconda\n",
    "uc = uc/alpha**2\n",
    "# vc dividendo per beta alla seconda\n",
    "vc = vc/beta**2\n",
    "\n",
    "# costruisci la matrice K\n",
    "K = np.array([[alpha, gamma, uc],\n",
    "              [0, beta, vc],\n",
    "              [0, 0, 1]])\n",
    "print(\"la matrice K:\\n\",K)"
   ]
  },
  {
   "cell_type": "markdown",
   "id": "6f3a6f16",
   "metadata": {},
   "source": [
    "\n",
    "\n",
    "![translation](translation.png)\n"
   ]
  },
  {
   "cell_type": "code",
   "execution_count": 22,
   "id": "1abe4dc2-0191-4ad5-8679-db2c182e76d0",
   "metadata": {},
   "outputs": [
    {
     "name": "stdout",
     "output_type": "stream",
     "text": [
      "rotazione\n",
      " [[ 1.05128760e-05  1.56352102e-05  1.60707490e-08]\n",
      " [-1.00000000e+00 -1.48724387e+00  1.68949802e-13]\n",
      " [-3.63658142e-08 -7.01555833e-08 -2.64970002e-13]]\n",
      "traslazione\n",
      " [-1.45670983e-04  1.38564351e+01  5.48503240e-07]\n"
     ]
    }
   ],
   "source": [
    "def getRT(K, H):\n",
    "    #h1, h2 e h3, che rappresentano rispettivamente la prima, la seconda e la terza colonna della matrice di omografia H\n",
    "    h1 = H[:,0]\n",
    "    h2 = H[:,1]\n",
    "    h3 = H[:,2]\n",
    "    #lam, che è l'inverso della norma del prodotto tra la matrice di calibrazione K e il vettore h1, normalizzato\n",
    "    lamb = 1/np.linalg.norm(np.matmul(np.linalg.inv(K),h1))\n",
    "    #Calcolo il vettore di rotazione r1 moltiplicando l'inversa di K per h1, poi moltiplica per lam\n",
    "    r1 = lamb * np.matmul(np.linalg.inv(K),h1)\n",
    "    #Calcolo il vettore di rotazione r2 moltiplicando l'inversa di K per h2, poi moltiplica per lam\n",
    "    r2 = lamb * np.matmul(np.linalg.inv(K),h2)\n",
    "    #Calcolo il vettore di rotazione r3 come il prodotto vettoriale tra r1 e r2\n",
    "    r3 = np.cross(r1,r2)\n",
    "    #Calcolo il vettore di traslazione T come il prodotto tra lam, l'inversa di K e h3, quindi ne fa la trasposta\n",
    "    T = np.transpose(lamb *np.matmul(np.linalg.inv(K),h3))\n",
    "    #Costruisco la matrice di rotazione R come la matrice trasposta dei vettori di rotazione r1, r2 e r3\n",
    "    R = np.transpose(np.array([r1, r2, r3]))\n",
    "    return R, T\n",
    "\n",
    "R, T  = getRT(K, H)\n",
    "print(\"rotazione\\n\",R)\n",
    "print(\"traslazione\\n\",T)"
   ]
  },
  {
   "cell_type": "code",
   "execution_count": 23,
   "id": "de6aa994",
   "metadata": {
    "collapsed": false,
    "jupyter": {
     "outputs_hidden": false
    }
   },
   "outputs": [],
   "source": [
    "img = cv2.imread(path_image + lista_img[20])\n",
    "def draw_ground(img, R, T, K, dist):\n",
    "    xg = np.arange(-5, 10, 0.5)\n",
    "    yg = np.arange(-5, 10, 0.5)\n",
    "    xx, yy = np.meshgrid(xg, yg)\n",
    "\n",
    "    dim = xx.shape[0] * xx.shape[1]\n",
    "    points = np.zeros((dim, 3), np.float32)\n",
    "\n",
    "    xx = xx.reshape(dim)\n",
    "    yy = yy.reshape(dim)\n",
    "\n",
    "    points[:, 0] = xx\n",
    "    points[:, 1] = yy\n",
    "    points[:, 2] = np.zeros((dim))\n",
    "\n",
    "    ground, _ = cv2.projectPoints(points, R, T, K, dist)\n",
    "    ground = np.squeeze(ground).astype(np.int32)\n",
    "\n",
    "    img_to_show_res = img.copy()\n",
    "    for p in ground:\n",
    "        img_to_show_res = cv2.circle(img_to_show_res, p, 3, (255, 0, 0))\n",
    "\n",
    "    cv2.imshow(\"ground\", img_to_show_res)\n",
    "    cv2.waitKey(0)\n",
    "\n",
    "draw_ground(img, R, T, K, dist)"
   ]
  },
  {
   "cell_type": "code",
   "execution_count": 23,
   "id": "d4405626",
   "metadata": {
    "collapsed": false,
    "jupyter": {
     "outputs_hidden": false
    }
   },
   "outputs": [],
   "source": []
  },
  {
   "cell_type": "code",
   "execution_count": 23,
   "id": "37f0f75e",
   "metadata": {
    "collapsed": false,
    "jupyter": {
     "outputs_hidden": false
    }
   },
   "outputs": [],
   "source": []
  }
 ],
 "metadata": {
  "kernelspec": {
   "display_name": "Python 3",
   "language": "python",
   "name": "python3"
  },
  "language_info": {
   "codemirror_mode": {
    "name": "ipython",
    "version": 3
   },
   "file_extension": ".py",
   "mimetype": "text/x-python",
   "name": "python",
   "nbconvert_exporter": "python",
   "pygments_lexer": "ipython3",
   "version": "3.9.15"
  }
 },
 "nbformat": 4,
 "nbformat_minor": 5
}
