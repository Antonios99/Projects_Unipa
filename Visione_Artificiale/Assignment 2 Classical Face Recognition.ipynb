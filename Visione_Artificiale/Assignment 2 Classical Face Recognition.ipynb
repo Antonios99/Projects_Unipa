{
 "cells": [
  {
   "cell_type": "code",
   "execution_count": 1,
   "metadata": {
    "collapsed": false,
    "jupyter": {
     "outputs_hidden": false
    }
   },
   "outputs": [],
   "source": [
    "import os\n",
    "import numpy as np\n",
    "import cv2"
   ]
  },
  {
   "cell_type": "markdown",
   "metadata": {},
   "source": [
    "Questo codice crea un classificatore a cascata utilizzando l'algoritmo di Viola Jones per la rilevazione del volto. Viene utilizzato il file XML \"haarcascade_frontalface_alt.xml\" per fornire le informazioni necessarie per la rilevazione del volto. Il classificatore viene caricato utilizzando il metodo \"load()\" della classe CascadeClassifier di OpenCV. Infine, la funzione \"viola_jones_init()\" restituisce il classificatore e lo assegna alla variabile \"face_cascade\". Se ci sono problemi durante il caricamento del classificatore, viene stampato un messaggio di errore e il programma viene terminato."
   ]
  },
  {
   "cell_type": "code",
   "execution_count": 2,
   "metadata": {
    "collapsed": false,
    "jupyter": {
     "outputs_hidden": false
    }
   },
   "outputs": [],
   "source": [
    "def viola_jones_init():\n",
    "    face_xml='haarcascade_frontalface_alt.xml'\n",
    "\n",
    "    face_cascade=cv2.CascadeClassifier()\n",
    "\n",
    "    if not face_cascade.load(face_xml):\n",
    "        print('--(!)Error loading face cascade')\n",
    "        exit(0)\n",
    "\n",
    "    return face_cascade\n",
    "\n",
    "face_cascade=viola_jones_init()"
   ]
  },
  {
   "cell_type": "markdown",
   "metadata": {},
   "source": [
    "creo un dataset contenente le immagini di volti.\n",
    "per ogni immagine tramite l'lgoritmo di Viola Jones rilevo la presenza di almeno un volto, se il volto viene rilevato questo viene riagliato e ridimensionato a 64X64.\n",
    "Salvo i volti trovati in una lista \"images\" per poi convertirla in una matrice.\n",
    "La matrice viene quindi trasposta per ottenere un array dove ogni riga rappresenta un'immagine e ogni colonna rappresenta il valore di un singolo pixel."
   ]
  },
  {
   "cell_type": "code",
   "execution_count": 3,
   "metadata": {
    "collapsed": false,
    "jupyter": {
     "outputs_hidden": false
    }
   },
   "outputs": [],
   "source": [
    "def initialize_dataset(face_cascade, pathname):\n",
    "    images=[]\n",
    "\n",
    "    i=0\n",
    "    for dirpath, dirnames, filenames in  os.walk(pathname):\n",
    "        for filename in filenames:\n",
    "            img=cv2.imread(os.path.join(dirpath, filename))\n",
    "            img_gray=cv2.cvtColor(img, cv2.COLOR_BGR2GRAY)\n",
    "            faces=face_cascade.detectMultiScale(img_gray)\n",
    "\n",
    "            for x,y,w,h in faces:\n",
    "                face=img_gray[y:y+h, x:x+w]\n",
    "\n",
    "            face_resized=cv2.resize(face, (64,64))\n",
    "            images.append(face_resized.flatten())\n",
    "            i+=1\n",
    "\n",
    "            if i>2000:\n",
    "                break\n",
    "\n",
    "        if i>2000:\n",
    "                break\n",
    "    #creo la matrice trasposta\n",
    "    images=np.array(images).T\n",
    "    return images"
   ]
  },
  {
   "cell_type": "markdown",
   "metadata": {},
   "source": [
    "Calcolo la faccia media per dataset di volti trovati"
   ]
  },
  {
   "cell_type": "code",
   "execution_count": 4,
   "metadata": {
    "collapsed": false,
    "jupyter": {
     "outputs_hidden": false
    }
   },
   "outputs": [],
   "source": [
    "images=initialize_dataset(face_cascade, 'IMMAGINI')\n",
    "\n",
    "mean=np.mean(images, axis=1)\n",
    "\n",
    "mean_face=mean.reshape((64,64)).astype(np.uint8)\n",
    "\n",
    "cv2.imshow(\"faccia media\", mean_face)\n",
    "cv2.imwrite(\"faccia media.png\", mean_face)\n",
    "cv2.waitKey(0)\n",
    "cv2.destroyAllWindows()"
   ]
  },
  {
   "cell_type": "markdown",
   "metadata": {},
   "source": [
    "Dalla matrice trasposta (images) trovata in precendenza mi calcolo la matrice di covarianza e con il metodo svd mi calcolo le tre matrici associate"
   ]
  },
  {
   "cell_type": "code",
   "execution_count": 5,
   "metadata": {
    "collapsed": false,
    "jupyter": {
     "outputs_hidden": false
    }
   },
   "outputs": [],
   "source": [
    "def compute_eigenfaces(images):\n",
    "    #calcola la matrice di covarianza delle immagini nella lista `images`\n",
    "    covar=np.cov(images)\n",
    "    #scompongo la matrice di covarianza nei tre componenti U autovettori, S autovalori, V\n",
    "    U,S,V=np.linalg.svd(covar)\n",
    "    # ritorno le matrici `U` (le \"eigenfaces\") e i rispettivi valori singolari `S`\n",
    "    return U, S\n",
    "\n",
    "eigenfaces, S=compute_eigenfaces(images)"
   ]
  },
  {
   "cell_type": "markdown",
   "metadata": {},
   "source": [
    "Dal video \"validation_1.mp4\" creato di proposito, mi ricavo i vari volti con Viola Jones per addestrare l'algoritmo knn"
   ]
  },
  {
   "cell_type": "code",
   "execution_count": 6,
   "metadata": {
    "collapsed": false,
    "jupyter": {
     "outputs_hidden": false
    }
   },
   "outputs": [],
   "source": [
    "def detect_face(face_cascade):\n",
    "\n",
    "    images=[]\n",
    "\n",
    "    video=cv2.VideoCapture(\"validation_1.mp4\")\n",
    "\n",
    "    if video is None or not video.isOpened():\n",
    "        print('--(!)Error opening video capture')\n",
    "        exit(0)\n",
    "\n",
    "    ret, img = video.read()\n",
    "    i=1\n",
    "\n",
    "    while ret:\n",
    "\n",
    "            img_gray=cv2.cvtColor(img, cv2.COLOR_BGR2GRAY)\n",
    "            faces=face_cascade.detectMultiScale(img_gray)\n",
    "\n",
    "            for x,y,w,h in faces:\n",
    "\n",
    "                face=img_gray[y:y+h, x:x+w]\n",
    "\n",
    "                face_resized=cv2.resize(face, (64,64))\n",
    "\n",
    "                cv2.imwrite(\"validation/validate\"+str(i)+\".png\", face_resized)\n",
    "                i+=1\n",
    "\n",
    "                images.append(face_resized.flatten())\n",
    "\n",
    "            ret, img = video.read()\n",
    "\n",
    "            if i>100:\n",
    "                  break\n",
    "    #ricalcolo la matrice di covarianza contenente i volti\n",
    "    images=np.array(images).T\n",
    "    return images"
   ]
  },
  {
   "cell_type": "markdown",
   "metadata": {},
   "source": [
    "Lo scopo di matrix_A  è quello di calcolare le distanze tra le immagini e identificare l'immagine di test corrispondente a quella di training più vicina.\n",
    "\n",
    "La funzione prende in input il numero di componenti principali \"n_components\" (eigenfaces) da utilizzare, la matrice di training \"gallery\" contenente le immagini della galleria e la matrice \"eigenfaces\" contenente gli autovettori della matrice di covarianza, crea una matrice \"matrix_a\" di dimensioni (n_images, n_components) e la popola con i valori della proiezione delle immagini nella galleria \"gallery\" sulla base delle prime \"n_components\" eigenfaces calcolate in precedenza.\n",
    "Per ogni immagine nella galleria, la funzione calcola le componenti principali della proiezione nel nuovo spazio delle eigenfaces\n",
    "Lo scopo della funzione è di creare la matrice \"A\", che rappresenta la proiezione di ciascuna immagine della galleria sullo spazio delle \"eigenfaces\"\n"
   ]
  },
  {
   "cell_type": "code",
   "execution_count": 7,
   "metadata": {
    "collapsed": false,
    "jupyter": {
     "outputs_hidden": false
    }
   },
   "outputs": [],
   "source": [
    "def matrix_A(n_components, gallery, eigenfaces):\n",
    "\n",
    "    n_images=gallery.shape[1]\n",
    "    #dimensione matrice A\n",
    "    matrix_a=np.zeros((n_images, n_components))\n",
    "\n",
    "    for i in range(n_images):\n",
    "        for j in range(n_components):\n",
    "            #prodotto scalare tra il vettore dell'immagine meno la media delle img e ciascun autovettore in \"eigenfaces\"\n",
    "            matrix_a[i,j]=np.dot(gallery[:,i]-mean, eigenfaces[:,j])\n",
    "\n",
    "    return matrix_a"
   ]
  },
  {
   "cell_type": "code",
   "execution_count": 8,
   "metadata": {
    "collapsed": false,
    "jupyter": {
     "outputs_hidden": false
    }
   },
   "outputs": [],
   "source": [
    "from sklearn.neighbors import KNeighborsClassifier as KNN\n",
    "#\"gallery\" contenente immagini di volti noti\n",
    "gallery=initialize_dataset(face_cascade, 'galleria')\n",
    "#\"validation\" contenente immagini di volti da riconoscere\n",
    "validation=detect_face(face_cascade)"
   ]
  },
  {
   "cell_type": "markdown",
   "metadata": {},
   "source": [
    "Lo scopo della funzione \"min_index\" è quello di determinare il valore più piccolo dell'indice  della matrice S, tale che la somma dei primi indici di \"S\" sia maggiore o uguale a \"n\"."
   ]
  },
  {
   "cell_type": "code",
   "execution_count": 9,
   "metadata": {
    "collapsed": false,
    "jupyter": {
     "outputs_hidden": false
    }
   },
   "outputs": [],
   "source": [
    "def min_index(S, n):\n",
    "    sum=0\n",
    "    index=0\n",
    "    for i in range(S.shape[0]):\n",
    "        sum+=S[i]\n",
    "        if sum>=n:\n",
    "            index=i\n",
    "            break\n",
    "\n",
    "    return index"
   ]
  },
  {
   "cell_type": "code",
   "execution_count": 10,
   "metadata": {
    "collapsed": false,
    "jupyter": {
     "outputs_hidden": false
    }
   },
   "outputs": [
    {
     "name": "stdout",
     "output_type": "stream",
     "text": [
      "face labels ['alessandro' 'alessandro' 'alessandro' 'alessandro' 'alessandro'\n",
      " 'alessandro' 'alessandro' 'alessandro' 'alessandro' 'alessandro'\n",
      " 'alessandro' 'alessandro' 'antonio' 'antonio' 'antonio' 'antonio'\n",
      " 'antonio' 'antonio' 'antonio' 'antonio' 'antonio' 'antonio' 'antonio'\n",
      " 'antonio' 'antonio' 'antonio' 'antonio' 'antonio' 'antonio' 'antonio'\n",
      " 'daniele' 'daniele' 'daniele' 'daniele' 'daniele' 'daniele' 'daniele'\n",
      " 'daniele' 'daniele' 'daniele' 'daniele' 'daniele' 'rosario' 'rosario'\n",
      " 'rosario' 'rosario' 'rosario' 'rosario' 'rosario' 'rosario' 'rosario'\n",
      " 'rosario' 'rosario' 'rosario' 'rosario' 'rosario' 'rosario']\n"
     ]
    }
   ],
   "source": [
    "# Definisco il percorso della cartella contenente le foto dei volti\n",
    "face_images_path = \"galleria\"\n",
    "\n",
    "# Creo una lista vuota per le etichette dei volti\n",
    "etichette_facce = []\n",
    "\n",
    "# Creo una lista vuota per le immagini dei volti\n",
    "face_images = []\n",
    "\n",
    "# Loop attraverso le sottocartelle nella cartella dei volti\n",
    "for subject in os.listdir(face_images_path):\n",
    "    # Creo il percorso completo alla cartella del soggetto\n",
    "    subject_path = os.path.join(face_images_path, subject)\n",
    "    # Loop attraverso le immagini nella cartella del soggetto\n",
    "    for image_name in os.listdir(subject_path):\n",
    "            # Creo il percorso completo all'immagine\n",
    "            image_path = os.path.join(subject_path, image_name)\n",
    "            # Leggo l'immagine usando OpenCV\n",
    "            image = cv2.imread(image_path, cv2.IMREAD_GRAYSCALE)\n",
    "            # Aggiungo l'immagine alla lista delle immagini dei volti\n",
    "            face_images.append(image)\n",
    "            # Aggiungo l'etichetta del volto alla lista delle etichette dei volti\n",
    "            etichette_facce.append(str(subject))\n",
    "\n",
    "# Convertiamo le liste in array NumPy per utilizzarle con scikit-learn\n",
    "face_images = np.array(face_images)\n",
    "etichette_facce = np.array(etichette_facce)\n",
    "\n",
    "print(\"face labels\",etichette_facce)"
   ]
  },
  {
   "cell_type": "code",
   "execution_count": 11,
   "metadata": {
    "collapsed": false,
    "jupyter": {
     "outputs_hidden": false
    }
   },
   "outputs": [],
   "source": [
    "validate=['antonio','rosario','alessandro','antonio','rosario','alessandro','antonio','rosario','alessandro','antonio','rosario','alessandro','antonio','rosario','alessandro','antonio','rosario','alessandro','antonio','rosario','alessandro','antonio','rosario','alessandro','antonio','rosario','alessandro','antonio','rosario','alessandro','antonio','rosario','alessandro','antonio','rosario','alessandro','antonio','rosario','alessandro','antonio','rosario','alessandro','antonio','rosario','alessandro','antonio','rosario','alessandro','antonio','rosario','alessandro','antonio','rosario','alessandro','antonio','rosario','alessandro','antonio','rosario','alessandro','antonio','alessandro','antonio','alessandro','daniele','antonio','daniele','alessandro','antonio','alessandro','daniele','antonio','alessandro','daniele','antonio','alessandro','daniele','antonio','alessandro','daniele','antonio','alessandro','daniele','antonio','alessandro','daniele','antonio','rosario','alessandro','daniele','antonio','rosario','alessandro','daniele','rosario','antonio','alessandro','daniele','antonio','rosario','alessandro','daniele','daniele']\n"
   ]
  },
  {
   "cell_type": "markdown",
   "metadata": {},
   "source": [
    "Algoritmo KNN con varianza tra 95% ed il 99.99% e valore di K[1,3,5]\n",
    "valuta l'accuratezza del classificatore KNN sulla base delle proiezioni delle immagini nella galleria con il numero minimo di \"eigenfaces\"."
   ]
  },
  {
   "cell_type": "code",
   "execution_count": 12,
   "metadata": {
    "collapsed": false,
    "jupyter": {
     "outputs_hidden": false
    }
   },
   "outputs": [
    {
     "name": "stderr",
     "output_type": "stream",
     "text": [
      "C:\\Users\\admin\\anaconda3\\lib\\site-packages\\sklearn\\neighbors\\_classification.py:228: FutureWarning: Unlike other reduction functions (e.g. `skew`, `kurtosis`), the default behavior of `mode` typically preserves the axis it acts along. In SciPy 1.11.0, this behavior will change: the default value of `keepdims` will become False, the `axis` over which the statistic is taken will be eliminated, and the value None will no longer be accepted. Set `keepdims` to True or False to avoid this warning.\n",
      "  mode, _ = stats.mode(_y[neigh_ind, k], axis=1)\n",
      "C:\\Users\\admin\\anaconda3\\lib\\site-packages\\sklearn\\neighbors\\_classification.py:228: FutureWarning: Unlike other reduction functions (e.g. `skew`, `kurtosis`), the default behavior of `mode` typically preserves the axis it acts along. In SciPy 1.11.0, this behavior will change: the default value of `keepdims` will become False, the `axis` over which the statistic is taken will be eliminated, and the value None will no longer be accepted. Set `keepdims` to True or False to avoid this warning.\n",
      "  mode, _ = stats.mode(_y[neigh_ind, k], axis=1)\n",
      "C:\\Users\\admin\\anaconda3\\lib\\site-packages\\sklearn\\neighbors\\_classification.py:228: FutureWarning: Unlike other reduction functions (e.g. `skew`, `kurtosis`), the default behavior of `mode` typically preserves the axis it acts along. In SciPy 1.11.0, this behavior will change: the default value of `keepdims` will become False, the `axis` over which the statistic is taken will be eliminated, and the value None will no longer be accepted. Set `keepdims` to True or False to avoid this warning.\n",
      "  mode, _ = stats.mode(_y[neigh_ind, k], axis=1)\n",
      "C:\\Users\\admin\\anaconda3\\lib\\site-packages\\sklearn\\neighbors\\_classification.py:228: FutureWarning: Unlike other reduction functions (e.g. `skew`, `kurtosis`), the default behavior of `mode` typically preserves the axis it acts along. In SciPy 1.11.0, this behavior will change: the default value of `keepdims` will become False, the `axis` over which the statistic is taken will be eliminated, and the value None will no longer be accepted. Set `keepdims` to True or False to avoid this warning.\n",
      "  mode, _ = stats.mode(_y[neigh_ind, k], axis=1)\n",
      "C:\\Users\\admin\\anaconda3\\lib\\site-packages\\sklearn\\neighbors\\_classification.py:228: FutureWarning: Unlike other reduction functions (e.g. `skew`, `kurtosis`), the default behavior of `mode` typically preserves the axis it acts along. In SciPy 1.11.0, this behavior will change: the default value of `keepdims` will become False, the `axis` over which the statistic is taken will be eliminated, and the value None will no longer be accepted. Set `keepdims` to True or False to avoid this warning.\n",
      "  mode, _ = stats.mode(_y[neigh_ind, k], axis=1)\n",
      "C:\\Users\\admin\\anaconda3\\lib\\site-packages\\sklearn\\neighbors\\_classification.py:228: FutureWarning: Unlike other reduction functions (e.g. `skew`, `kurtosis`), the default behavior of `mode` typically preserves the axis it acts along. In SciPy 1.11.0, this behavior will change: the default value of `keepdims` will become False, the `axis` over which the statistic is taken will be eliminated, and the value None will no longer be accepted. Set `keepdims` to True or False to avoid this warning.\n",
      "  mode, _ = stats.mode(_y[neigh_ind, k], axis=1)\n"
     ]
    },
    {
     "name": "stdout",
     "output_type": "stream",
     "text": [
      "predicted ['alessandro' 'alessandro' 'alessandro' 'alessandro' 'alessandro'\n",
      " 'alessandro' 'alessandro' 'alessandro' 'alessandro' 'alessandro'\n",
      " 'alessandro' 'alessandro' 'alessandro' 'alessandro' 'alessandro'\n",
      " 'alessandro' 'alessandro' 'alessandro' 'alessandro' 'alessandro'\n",
      " 'alessandro' 'alessandro' 'alessandro' 'alessandro' 'alessandro'\n",
      " 'alessandro' 'alessandro' 'alessandro' 'alessandro' 'alessandro'\n",
      " 'alessandro' 'alessandro' 'alessandro' 'alessandro' 'alessandro'\n",
      " 'alessandro' 'alessandro' 'alessandro' 'alessandro' 'alessandro'\n",
      " 'alessandro' 'alessandro' 'alessandro' 'alessandro' 'alessandro'\n",
      " 'alessandro' 'alessandro' 'alessandro' 'alessandro' 'alessandro'\n",
      " 'alessandro' 'alessandro' 'alessandro' 'alessandro' 'alessandro'\n",
      " 'alessandro' 'alessandro' 'alessandro' 'alessandro' 'daniele'\n",
      " 'alessandro' 'alessandro' 'alessandro' 'alessandro' 'alessandro'\n",
      " 'daniele' 'alessandro' 'daniele' 'alessandro' 'alessandro' 'alessandro'\n",
      " 'daniele' 'alessandro' 'alessandro' 'daniele' 'alessandro' 'alessandro'\n",
      " 'daniele' 'alessandro' 'alessandro' 'daniele' 'alessandro' 'alessandro'\n",
      " 'daniele' 'alessandro' 'alessandro' 'daniele' 'alessandro' 'alessandro'\n",
      " 'alessandro' 'daniele' 'alessandro' 'daniele' 'alessandro' 'daniele'\n",
      " 'daniele' 'alessandro' 'alessandro' 'daniele' 'alessandro' 'alessandro'\n",
      " 'alessandro' 'daniele']\n",
      "Con varianza pari al 95.0% e K=1 la percentuale di accuratezza: 0.30097\n",
      "predicted ['alessandro' 'alessandro' 'alessandro' 'alessandro' 'alessandro'\n",
      " 'alessandro' 'alessandro' 'alessandro' 'alessandro' 'alessandro'\n",
      " 'alessandro' 'alessandro' 'alessandro' 'alessandro' 'alessandro'\n",
      " 'alessandro' 'alessandro' 'alessandro' 'alessandro' 'alessandro'\n",
      " 'alessandro' 'alessandro' 'alessandro' 'alessandro' 'alessandro'\n",
      " 'alessandro' 'alessandro' 'alessandro' 'alessandro' 'alessandro'\n",
      " 'alessandro' 'alessandro' 'alessandro' 'alessandro' 'alessandro'\n",
      " 'alessandro' 'alessandro' 'alessandro' 'alessandro' 'alessandro'\n",
      " 'alessandro' 'alessandro' 'alessandro' 'alessandro' 'alessandro'\n",
      " 'alessandro' 'alessandro' 'alessandro' 'alessandro' 'alessandro'\n",
      " 'alessandro' 'alessandro' 'alessandro' 'alessandro' 'alessandro'\n",
      " 'alessandro' 'alessandro' 'alessandro' 'alessandro' 'daniele'\n",
      " 'alessandro' 'alessandro' 'alessandro' 'alessandro' 'alessandro'\n",
      " 'daniele' 'alessandro' 'daniele' 'alessandro' 'alessandro' 'alessandro'\n",
      " 'daniele' 'alessandro' 'alessandro' 'daniele' 'alessandro' 'alessandro'\n",
      " 'daniele' 'alessandro' 'alessandro' 'daniele' 'alessandro' 'alessandro'\n",
      " 'daniele' 'alessandro' 'alessandro' 'daniele' 'daniele' 'alessandro'\n",
      " 'alessandro' 'daniele' 'alessandro' 'daniele' 'alessandro' 'daniele'\n",
      " 'daniele' 'alessandro' 'alessandro' 'daniele' 'alessandro' 'daniele'\n",
      " 'alessandro' 'daniele']\n",
      "Con varianza pari al 95.0% e K=3 la percentuale di accuratezza: 0.29126\n",
      "predicted ['alessandro' 'alessandro' 'alessandro' 'daniele' 'alessandro'\n",
      " 'alessandro' 'daniele' 'alessandro' 'alessandro' 'alessandro'\n",
      " 'alessandro' 'alessandro' 'alessandro' 'alessandro' 'alessandro'\n",
      " 'alessandro' 'alessandro' 'alessandro' 'alessandro' 'alessandro'\n",
      " 'alessandro' 'alessandro' 'alessandro' 'alessandro' 'alessandro'\n",
      " 'alessandro' 'alessandro' 'alessandro' 'alessandro' 'alessandro'\n",
      " 'alessandro' 'alessandro' 'alessandro' 'alessandro' 'alessandro'\n",
      " 'alessandro' 'alessandro' 'alessandro' 'alessandro' 'alessandro'\n",
      " 'daniele' 'alessandro' 'alessandro' 'daniele' 'alessandro' 'alessandro'\n",
      " 'daniele' 'alessandro' 'alessandro' 'alessandro' 'daniele' 'alessandro'\n",
      " 'alessandro' 'daniele' 'alessandro' 'alessandro' 'daniele' 'alessandro'\n",
      " 'daniele' 'daniele' 'alessandro' 'daniele' 'alessandro' 'daniele'\n",
      " 'alessandro' 'daniele' 'daniele' 'daniele' 'alessandro' 'alessandro'\n",
      " 'daniele' 'daniele' 'alessandro' 'alessandro' 'daniele' 'daniele'\n",
      " 'alessandro' 'daniele' 'daniele' 'alessandro' 'daniele' 'alessandro'\n",
      " 'alessandro' 'daniele' 'alessandro' 'alessandro' 'daniele' 'daniele'\n",
      " 'alessandro' 'alessandro' 'daniele' 'alessandro' 'daniele' 'alessandro'\n",
      " 'daniele' 'daniele' 'alessandro' 'alessandro' 'daniele' 'alessandro'\n",
      " 'daniele' 'alessandro' 'daniele']\n",
      "Con varianza pari al 95.0% e K=5 la percentuale di accuratezza: 0.24272\n",
      "predicted ['alessandro' 'alessandro' 'alessandro' 'alessandro' 'alessandro'\n",
      " 'alessandro' 'alessandro' 'alessandro' 'alessandro' 'alessandro'\n",
      " 'alessandro' 'alessandro' 'alessandro' 'alessandro' 'alessandro'\n",
      " 'alessandro' 'alessandro' 'alessandro' 'alessandro' 'alessandro'\n",
      " 'alessandro' 'alessandro' 'alessandro' 'alessandro' 'alessandro'\n",
      " 'alessandro' 'alessandro' 'alessandro' 'alessandro' 'alessandro'\n",
      " 'alessandro' 'alessandro' 'alessandro' 'alessandro' 'alessandro'\n",
      " 'alessandro' 'alessandro' 'alessandro' 'alessandro' 'alessandro'\n",
      " 'alessandro' 'alessandro' 'alessandro' 'alessandro' 'alessandro'\n",
      " 'alessandro' 'alessandro' 'alessandro' 'alessandro' 'alessandro'\n",
      " 'alessandro' 'alessandro' 'alessandro' 'alessandro' 'alessandro'\n",
      " 'alessandro' 'alessandro' 'alessandro' 'alessandro' 'daniele'\n",
      " 'alessandro' 'alessandro' 'alessandro' 'alessandro' 'alessandro'\n",
      " 'daniele' 'alessandro' 'daniele' 'alessandro' 'alessandro' 'alessandro'\n",
      " 'daniele' 'alessandro' 'alessandro' 'daniele' 'alessandro' 'alessandro'\n",
      " 'daniele' 'alessandro' 'alessandro' 'daniele' 'alessandro' 'alessandro'\n",
      " 'daniele' 'alessandro' 'alessandro' 'daniele' 'alessandro' 'alessandro'\n",
      " 'alessandro' 'daniele' 'alessandro' 'daniele' 'alessandro' 'daniele'\n",
      " 'daniele' 'alessandro' 'alessandro' 'daniele' 'alessandro' 'alessandro'\n",
      " 'alessandro' 'daniele']\n",
      "Con varianza pari al 99.0% e K=1 la percentuale di accuratezza: 0.30097\n",
      "predicted ['alessandro' 'alessandro' 'alessandro' 'alessandro' 'alessandro'\n",
      " 'alessandro' 'alessandro' 'alessandro' 'alessandro' 'alessandro'\n",
      " 'alessandro' 'alessandro' 'alessandro' 'alessandro' 'alessandro'\n",
      " 'alessandro' 'alessandro' 'alessandro' 'alessandro' 'alessandro'\n",
      " 'alessandro' 'alessandro' 'alessandro' 'alessandro' 'alessandro'\n",
      " 'alessandro' 'alessandro' 'alessandro' 'alessandro' 'alessandro'\n",
      " 'alessandro' 'alessandro' 'alessandro' 'alessandro' 'alessandro'\n",
      " 'alessandro' 'alessandro' 'alessandro' 'alessandro' 'alessandro'\n",
      " 'alessandro' 'alessandro' 'alessandro' 'alessandro' 'alessandro'\n",
      " 'alessandro' 'alessandro' 'alessandro' 'alessandro' 'alessandro'\n",
      " 'alessandro' 'alessandro' 'alessandro' 'alessandro' 'alessandro'\n",
      " 'alessandro' 'alessandro' 'alessandro' 'alessandro' 'daniele'\n",
      " 'alessandro' 'alessandro' 'alessandro' 'alessandro' 'alessandro'\n",
      " 'daniele' 'alessandro' 'daniele' 'alessandro' 'alessandro' 'alessandro'\n",
      " 'daniele' 'alessandro' 'alessandro' 'daniele' 'alessandro' 'alessandro'\n",
      " 'daniele' 'alessandro' 'alessandro' 'daniele' 'alessandro' 'alessandro'\n",
      " 'daniele' 'alessandro' 'alessandro' 'daniele' 'daniele' 'alessandro'\n",
      " 'alessandro' 'daniele' 'alessandro' 'daniele' 'alessandro' 'daniele'\n",
      " 'daniele' 'alessandro' 'alessandro' 'daniele' 'alessandro' 'daniele'\n",
      " 'alessandro' 'daniele']\n",
      "Con varianza pari al 99.0% e K=3 la percentuale di accuratezza: 0.29126\n",
      "predicted ['alessandro' 'alessandro' 'alessandro' 'alessandro' 'alessandro'\n",
      " 'alessandro' 'daniele' 'alessandro' 'alessandro' 'alessandro'\n",
      " 'alessandro' 'alessandro' 'alessandro' 'alessandro' 'alessandro'\n",
      " 'alessandro' 'alessandro' 'alessandro' 'alessandro' 'alessandro'\n",
      " 'alessandro' 'alessandro' 'alessandro' 'alessandro' 'alessandro'\n",
      " 'alessandro' 'alessandro' 'alessandro' 'alessandro' 'alessandro'\n",
      " 'alessandro' 'alessandro' 'alessandro' 'alessandro' 'alessandro'\n",
      " 'alessandro' 'alessandro' 'alessandro' 'alessandro' 'alessandro'\n",
      " 'daniele' 'alessandro' 'alessandro' 'alessandro' 'alessandro' 'daniele'\n",
      " 'alessandro' 'alessandro' 'alessandro' 'alessandro' 'daniele'\n",
      " 'alessandro' 'alessandro' 'daniele' 'alessandro' 'alessandro' 'daniele'\n",
      " 'alessandro' 'daniele' 'daniele' 'alessandro' 'daniele' 'alessandro'\n",
      " 'daniele' 'alessandro' 'daniele' 'daniele' 'daniele' 'alessandro'\n",
      " 'alessandro' 'daniele' 'daniele' 'alessandro' 'alessandro' 'daniele'\n",
      " 'daniele' 'alessandro' 'daniele' 'daniele' 'alessandro' 'daniele'\n",
      " 'alessandro' 'alessandro' 'daniele' 'alessandro' 'alessandro' 'daniele'\n",
      " 'daniele' 'alessandro' 'alessandro' 'daniele' 'alessandro' 'daniele'\n",
      " 'alessandro' 'daniele' 'daniele' 'alessandro' 'alessandro' 'daniele'\n",
      " 'alessandro' 'daniele' 'alessandro' 'daniele']\n",
      "Con varianza pari al 99.0% e K=5 la percentuale di accuratezza: 0.24272\n"
     ]
    },
    {
     "name": "stderr",
     "output_type": "stream",
     "text": [
      "C:\\Users\\admin\\anaconda3\\lib\\site-packages\\sklearn\\neighbors\\_classification.py:228: FutureWarning: Unlike other reduction functions (e.g. `skew`, `kurtosis`), the default behavior of `mode` typically preserves the axis it acts along. In SciPy 1.11.0, this behavior will change: the default value of `keepdims` will become False, the `axis` over which the statistic is taken will be eliminated, and the value None will no longer be accepted. Set `keepdims` to True or False to avoid this warning.\n",
      "  mode, _ = stats.mode(_y[neigh_ind, k], axis=1)\n",
      "C:\\Users\\admin\\anaconda3\\lib\\site-packages\\sklearn\\neighbors\\_classification.py:228: FutureWarning: Unlike other reduction functions (e.g. `skew`, `kurtosis`), the default behavior of `mode` typically preserves the axis it acts along. In SciPy 1.11.0, this behavior will change: the default value of `keepdims` will become False, the `axis` over which the statistic is taken will be eliminated, and the value None will no longer be accepted. Set `keepdims` to True or False to avoid this warning.\n",
      "  mode, _ = stats.mode(_y[neigh_ind, k], axis=1)\n",
      "C:\\Users\\admin\\anaconda3\\lib\\site-packages\\sklearn\\neighbors\\_classification.py:228: FutureWarning: Unlike other reduction functions (e.g. `skew`, `kurtosis`), the default behavior of `mode` typically preserves the axis it acts along. In SciPy 1.11.0, this behavior will change: the default value of `keepdims` will become False, the `axis` over which the statistic is taken will be eliminated, and the value None will no longer be accepted. Set `keepdims` to True or False to avoid this warning.\n",
      "  mode, _ = stats.mode(_y[neigh_ind, k], axis=1)\n",
      "C:\\Users\\admin\\anaconda3\\lib\\site-packages\\sklearn\\neighbors\\_classification.py:228: FutureWarning: Unlike other reduction functions (e.g. `skew`, `kurtosis`), the default behavior of `mode` typically preserves the axis it acts along. In SciPy 1.11.0, this behavior will change: the default value of `keepdims` will become False, the `axis` over which the statistic is taken will be eliminated, and the value None will no longer be accepted. Set `keepdims` to True or False to avoid this warning.\n",
      "  mode, _ = stats.mode(_y[neigh_ind, k], axis=1)\n",
      "C:\\Users\\admin\\anaconda3\\lib\\site-packages\\sklearn\\neighbors\\_classification.py:228: FutureWarning: Unlike other reduction functions (e.g. `skew`, `kurtosis`), the default behavior of `mode` typically preserves the axis it acts along. In SciPy 1.11.0, this behavior will change: the default value of `keepdims` will become False, the `axis` over which the statistic is taken will be eliminated, and the value None will no longer be accepted. Set `keepdims` to True or False to avoid this warning.\n",
      "  mode, _ = stats.mode(_y[neigh_ind, k], axis=1)\n",
      "C:\\Users\\admin\\anaconda3\\lib\\site-packages\\sklearn\\neighbors\\_classification.py:228: FutureWarning: Unlike other reduction functions (e.g. `skew`, `kurtosis`), the default behavior of `mode` typically preserves the axis it acts along. In SciPy 1.11.0, this behavior will change: the default value of `keepdims` will become False, the `axis` over which the statistic is taken will be eliminated, and the value None will no longer be accepted. Set `keepdims` to True or False to avoid this warning.\n",
      "  mode, _ = stats.mode(_y[neigh_ind, k], axis=1)\n"
     ]
    }
   ],
   "source": [
    "#normalizzo la matrice S per avere dei valori più facili da comparare\n",
    "S_normalized=S/np.sum(S)\n",
    "#faccio variare la varianza tra 95% ed il 99.99%\n",
    "for n in [0.95, 0.99]:\n",
    "\n",
    "        index=min_index(S_normalized, n)\n",
    "        a_train= matrix_A(index, gallery, eigenfaces)\n",
    "        a_val=matrix_A(index, validation, eigenfaces)\n",
    "\n",
    "        for k in [1,3,5]:\n",
    "            knn= KNN(n_neighbors=k)\n",
    "            #addestro il dataset passando con fit il valori di a_trai generato dalle varie immagini della galleria e le etichette dei vari volti\n",
    "            knn.fit(a_train, etichette_facce)\n",
    "            #calcola l'array di predizioni corrispondenti alle etichette dei dati\n",
    "            predicted=knn.predict(a_val)\n",
    "            print(\"predicted\",predicted)\n",
    "            #il metodo score restituisce l'accuratezza media sui dati di test e sulle etichette date\n",
    "            acc=knn.score(a_val, validate )\n",
    "            print(f\"Con varianza pari al {n*100}% e K={k} la percentuale di accuratezza: {acc:.5f}\")"
   ]
  },
  {
   "cell_type": "markdown",
   "metadata": {},
   "source": [
    "calcolo le prime 10 Eigenfaces\n",
    "\"Eigenfaces_img\" prende in input due parametri: \"matrix_a\" ed \"eigenfaces\".\n",
    " Con un ciclo for itera sulle prime 10 immagini della matrice \"matrix_a\" e sulle prime 10 colonne dell'array \"eigenfaces\"."
   ]
  },
  {
   "cell_type": "code",
   "execution_count": 13,
   "metadata": {
    "collapsed": false,
    "jupyter": {
     "outputs_hidden": false
    }
   },
   "outputs": [],
   "source": [
    "def eigenface_img(matrix_a, eigenfaces):\n",
    "    sum=0\n",
    "    i=0\n",
    "    #assegno a n_images,n_components lo stesso numero di colonne della matrice_a\n",
    "    n_images,n_components=matrix_a.shape\n",
    "\n",
    "    for i in range(n_images)[0:10]:\n",
    "        for j in range(n_components)[0:10]:\n",
    "            #sommo alla variabile sum il prodotto tra il valore di \"matrix_a\" alla posizione [i,j] e la colonna j-esima dell'array \"eigenfaces\"\n",
    "            sum+=matrix_a[i,j]*eigenfaces[:,j]\n",
    "\n",
    "        new=(mean+sum).reshape((64,64)).astype(np.uint8)\n",
    "        cv2.imshow(\"img\", new)\n",
    "        cv2.imwrite(\"Eigenfaces/eigenface{\"+str(i)+\"}.png\", new)\n",
    "        i=+1\n",
    "        cv2.waitKey(0)\n",
    "        cv2.destroyAllWindows()\n",
    "        sum=0\n",
    "eigenface_img(a_val, eigenfaces)"
   ]
  },
  {
   "cell_type": "markdown",
   "metadata": {},
   "source": [
    "Creo un dataset contenente le frame del video \"test\" .\n",
    "Per ogni immagine tramite l'lgoritmo di Viola Jones rilevo la presenza di almeno un volto, se il volto viene rilevato questo viene riagliato e ridimensionato a 64X64.\n",
    "Salvo i volti trovati in una lista \"images\" per poi convertirla in una matrice.\n",
    "La matrice viene quindi trasposta per ottenere un array dove ogni riga rappresenta un'immagine e ogni colonna rappresenta il valore di un singolo pixel."
   ]
  },
  {
   "cell_type": "code",
   "execution_count": 14,
   "metadata": {
    "collapsed": false,
    "jupyter": {
     "outputs_hidden": false
    }
   },
   "outputs": [],
   "source": [
    "def test_dataset(face_cascade, pathname, filename):\n",
    "    images=[]\n",
    "\n",
    "    img=cv2.imread(os.path.join(pathname, filename))\n",
    "    img_gray=cv2.cvtColor(img, cv2.COLOR_BGR2GRAY)\n",
    "    faces=face_cascade.detectMultiScale(img_gray)\n",
    "\n",
    "    for x,y,w,h in faces:\n",
    "        face=img_gray[y:y+h, x:x+w]\n",
    "        face_resized=cv2.resize(face, (64,64))\n",
    "        images.append(face_resized.flatten())\n",
    "\n",
    "\n",
    "    images=np.array(images).T\n",
    "    print(f\"Analizzato il file: {filename}\")\n",
    "\n",
    "    cv2.imshow('frame',img)\n",
    "\n",
    "    return images"
   ]
  },
  {
   "cell_type": "markdown",
   "metadata": {},
   "source": [
    "Lo scopo di matrix_A_test è quello di creare la matrice di proiezione per le immagini di test nella galleria delle immagini di training.\n",
    "\n",
    "La funzione prende in input il numero di componenti principali \"n_components\" (eigenfaces) da utilizzare, la matrice di training \"gallery1\" contenente le immagini della galleria e la matrice \"eigenfaces\" contenente gli autovettori della matrice di covarianza. Successivamente, la funzione crea una matrice \"a_test\" di dimensioni (n_images, n_components) e la popola con i valori della proiezione delle immagini di test nella galleria \"gallery1\" sulle prime \"n_components\" eigenfaces calcolate in precedenza.\n",
    "Per ogni immagine di test nella galleria, la funzione calcola le componenti principali della proiezione nel nuovo spazio delle eigenfaces. Lo scopo della funzione è di creare la matrice \"a_test\", che rappresenta la proiezione di ciascuna immagine di test della galleria sullo spazio delle \"eigenfaces\"."
   ]
  },
  {
   "cell_type": "code",
   "execution_count": 15,
   "metadata": {
    "collapsed": false,
    "jupyter": {
     "outputs_hidden": false
    }
   },
   "outputs": [],
   "source": [
    "def matrix_A_test(n_components, gallery1, eigenfaces):\n",
    "\n",
    "    n_images=gallery1.shape[1]\n",
    "\n",
    "    a_test=np.zeros((n_images, n_components))\n",
    "\n",
    "    for i in range(n_images):\n",
    "        for j in range(n_components):\n",
    "            a_test[i,j]=np.dot(gallery1[:,i]-mean, eigenfaces[:,j])\n",
    "\n",
    "    return a_test"
   ]
  },
  {
   "cell_type": "markdown",
   "metadata": {},
   "source": [
    "Considero un singlo frame e tramite l'lagoritmo knn addestrato precedentemente con il metodo \"predict\" predico le identità dei volti presenti nel frame"
   ]
  },
  {
   "cell_type": "code",
   "execution_count": 16,
   "metadata": {
    "collapsed": false,
    "jupyter": {
     "outputs_hidden": false
    }
   },
   "outputs": [
    {
     "name": "stdout",
     "output_type": "stream",
     "text": [
      "Analizzato il file: frame543.png\n"
     ]
    },
    {
     "name": "stderr",
     "output_type": "stream",
     "text": [
      "C:\\Users\\admin\\anaconda3\\lib\\site-packages\\sklearn\\neighbors\\_classification.py:228: FutureWarning: Unlike other reduction functions (e.g. `skew`, `kurtosis`), the default behavior of `mode` typically preserves the axis it acts along. In SciPy 1.11.0, this behavior will change: the default value of `keepdims` will become False, the `axis` over which the statistic is taken will be eliminated, and the value None will no longer be accepted. Set `keepdims` to True or False to avoid this warning.\n",
      "  mode, _ = stats.mode(_y[neigh_ind, k], axis=1)\n"
     ]
    },
    {
     "name": "stdout",
     "output_type": "stream",
     "text": [
      "il suo predicted è: ['daniele' 'antonio' 'alessandro']\n"
     ]
    }
   ],
   "source": [
    "from sklearn.neighbors import KNeighborsClassifier as KNN\n",
    "\n",
    "frame=test_dataset(face_cascade, 'frame','frame543.png')\n",
    "n = 0.99\n",
    "index=min_index(S_normalized, n)\n",
    "a_val= matrix_A_test(index, frame, eigenfaces)\n",
    "\n",
    "for k in [1]:\n",
    "        knn= KNN(n_neighbors=k)\n",
    "        knn.fit(a_train, etichette_facce)\n",
    "        predicted=knn.predict(a_val)\n",
    "        print(\"il suo predicted è:\",predicted)\n",
    "\n",
    "cv2.waitKey(0)\n",
    "cv2.destroyAllWindows()"
   ]
  },
  {
   "cell_type": "markdown",
   "metadata": {},
   "source": [
    "Analizzo il video \"test.mp4\" craeto in precedenza e per ogni frame tramite Viola Jones rilevo la presenza di almeno un volto"
   ]
  },
  {
   "cell_type": "code",
   "execution_count": 18,
   "metadata": {
    "collapsed": false,
    "jupyter": {
     "outputs_hidden": false
    }
   },
   "outputs": [],
   "source": [
    "def video_detection():\n",
    "    frames=[]\n",
    "    # apre il video\n",
    "    video = cv2.VideoCapture('test.mp4')\n",
    "\n",
    "# controlla se il video è aperto correttamente\n",
    "    if not video.isOpened():\n",
    "        print('Errore nell\\'apertura del video')\n",
    "        exit()\n",
    "\n",
    "    # legge i frame del video\n",
    "    while True:\n",
    "        ret, frame = video.read()\n",
    "\n",
    "        # se il frame non viene letto correttamente, esce dal ciclo\n",
    "        if not ret:\n",
    "            break\n",
    "\n",
    "        # rileva le facce nel frame\n",
    "        faces = face_cascade.detectMultiScale(frame, scaleFactor=1.1, minNeighbors=5)\n",
    "\n",
    "        # disegna un rettangolo intorno a ogni volto rilevato\n",
    "        for (x, y, w, h) in faces:\n",
    "            cv2.rectangle(frame, (x, y), (x + w, y + h), (0, 0, 255), 4)\n",
    "\n",
    "        # mostra il video\n",
    "        cv2.imshow('Video', frame)\n",
    "\n",
    "        #cv2.imwrite(\"Frame/frame\"+str(i)+\".png\", frame)\n",
    "\n",
    "        if cv2.waitKey(1) & 0xFF == ord('q'):\n",
    "            break\n",
    "# rilascia le risorse\n",
    "    video.release()\n",
    "    #out.release()\n",
    "    cv2.destroyAllWindows()\n",
    "video_detection()"
   ]
  },
  {
   "cell_type": "markdown",
   "metadata": {},
   "source": [
    "analizzo il video \"test.mp4\" utilizzando il classificatore di Viola Jones per rilevare le facce in ogni frame. Successivamente, disegna un rettangolo intorno a ogni faccia rilevata e scrive il video di output con i rettangoli intorno alle facce rilevate in un nuovo file ('video_finale.mp4')"
   ]
  },
  {
   "cell_type": "code",
   "execution_count": 18,
   "metadata": {
    "collapsed": false,
    "jupyter": {
     "outputs_hidden": false
    }
   },
   "outputs": [],
   "source": [
    "def video_test():\n",
    "    # Aprire il video di input\n",
    "    video = cv2.VideoCapture('Assigmnet 2/test.mp4')\n",
    "\n",
    "    # Ottenere le informazioni del video\n",
    "    fps = int(video.get(cv2.CAP_PROP_FPS))\n",
    "    width = int(video.get(cv2.CAP_PROP_FRAME_WIDTH))\n",
    "    height = int(video.get(cv2.CAP_PROP_FRAME_HEIGHT))\n",
    "\n",
    "    # Creare il video di output\n",
    "    fourcc = cv2.VideoWriter_fourcc(*'mp4v')\n",
    "    output = cv2.VideoWriter('video_finale.mp4', fourcc, fps, (width, height))\n",
    "\n",
    "    # Ciclo while per analizzare ogni frame del video\n",
    "    while True:\n",
    "        # Leggere un nuovo frame dal video di input\n",
    "        ret, frame = video.read()\n",
    "        # rileva le facce nel frame\n",
    "        faces = face_cascade.detectMultiScale(frame, scaleFactor=1.1, minNeighbors=5)\n",
    "\n",
    "        # disegna un rettangolo intorno a ogni volto rilevato\n",
    "        for (x, y, w, h) in faces:\n",
    "            cv2.rectangle(frame, (x, y), (x + w, y + h), (0, 0, 255), 4)\n",
    "\n",
    "\n",
    "        # Scrivere il frame con il risultato nel video di output\n",
    "        output.write(frame)\n",
    "\n",
    "        # Uscire dal ciclo se non ci sono più frame da leggere\n",
    "        if not ret:\n",
    "            break\n",
    "\n",
    "    # Rilasciare le risorse\n",
    "    video.release()\n",
    "    output.release()\n",
    "    cv2.destroyAllWindows()\n",
    "video_test()"
   ]
  },
  {
   "cell_type": "code",
   "execution_count": 1,
   "metadata": {
    "collapsed": false,
    "jupyter": {
     "outputs_hidden": false
    }
   },
   "outputs": [],
   "source": []
  }
 ],
 "metadata": {
  "kernelspec": {
   "display_name": "Python 3",
   "language": "python",
   "name": "python3"
  },
  "language_info": {
   "codemirror_mode": {
    "name": "ipython",
    "version": 3
   },
   "file_extension": ".py",
   "mimetype": "text/x-python",
   "name": "python",
   "nbconvert_exporter": "python",
   "pygments_lexer": "ipython3",
   "version": "3.9.15"
  }
 },
 "nbformat": 4,
 "nbformat_minor": 4
}
